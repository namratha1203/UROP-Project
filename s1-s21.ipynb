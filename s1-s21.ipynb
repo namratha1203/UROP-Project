{
 "cells": [
  {
   "cell_type": "code",
   "execution_count": 1,
   "id": "2b87d226",
   "metadata": {},
   "outputs": [
    {
     "name": "stdout",
     "output_type": "stream",
     "text": [
      "Requirement already satisfied: scipy in /Users/namrathaaddagada/anaconda3/lib/python3.11/site-packages (1.10.1)\n",
      "Requirement already satisfied: numpy<1.27.0,>=1.19.5 in /Users/namrathaaddagada/anaconda3/lib/python3.11/site-packages (from scipy) (1.24.3)\n",
      "Note: you may need to restart the kernel to use updated packages.\n"
     ]
    }
   ],
   "source": [
    "pip install scipy"
   ]
  },
  {
   "cell_type": "code",
   "execution_count": 2,
   "id": "9b8b5c8b",
   "metadata": {},
   "outputs": [
    {
     "name": "stdout",
     "output_type": "stream",
     "text": [
      "s1: 0.08982456140350877\n",
      "s2: 0.08982456140350877\n",
      "s3: 0.08982456140350877\n",
      "s4: 0.04491228070175438\n",
      "s5: 0.03929824561403508\n",
      "s6: 0.03929824561403508\n",
      "s7: 0.03929824561403508\n",
      "s8: 0.01964912280701754\n",
      "s9: 0.06736842105263158\n",
      "s10: 0.06736842105263158\n",
      "s11: 0.06736842105263158\n",
      "s12: 0.03368421052631579\n",
      "s13: 0.050526315789473676\n",
      "s14: 0.050526315789473676\n",
      "s15: 0.03929824561403508\n",
      "s16: 0.03929824561403508\n",
      "s17: 0.03929824561403508\n",
      "s18: 0.01964912280701754\n",
      "s19: 0.02947368421052631\n",
      "s20: 0.02947368421052631\n",
      "s21: 0.014736842105263156\n",
      "Sum of all states: 1.0\n"
     ]
    },
    {
     "name": "stderr",
     "output_type": "stream",
     "text": [
      "/Users/namrathaaddagada/anaconda3/lib/python3.11/site-packages/scipy/optimize/_minpack_py.py:178: RuntimeWarning: The iteration is not making good progress, as measured by the \n",
      "  improvement from the last ten iterations.\n",
      "  warnings.warn(msg, RuntimeWarning)\n"
     ]
    }
   ],
   "source": [
    "from scipy.optimize import fsolve\n",
    "import numpy as np\n",
    "\n",
    "# Define the equations as a system of functions\n",
    "def equations(vars):\n",
    "    s1, s2, s3, s4, s5, s6, s7, s8, s9, s10, s11, s12, s13, s14, s15, s16, s17, s18, s19, s20, s21 = vars\n",
    "    eq1 = s14 + 0.5 * s18 + 0.5 * s20 + s21 - s1\n",
    "    eq2 = s1 - s2\n",
    "    eq3 = s2 - s3\n",
    "    eq4 = 0.5 * s3 - s4\n",
    "    eq5 = 0.5 * s4 + 0.5 * s12 - s5\n",
    "    eq6 = s5 - s6\n",
    "    eq7 = s6 - s7\n",
    "    eq8 = 0.5 * s7 - s8\n",
    "    eq9 = 0.5 * s3 + 0.5 * s4 - s9\n",
    "    eq10 = s9 - s10\n",
    "    eq11 = s10 - s11\n",
    "    eq12 = 0.5 * s11 - s12\n",
    "    eq13 = 0.5 * s11 + 0.5 * s12 - s13\n",
    "    eq14 = s13 - s14\n",
    "    eq15 = 0.5 * s7 + s8 - s15\n",
    "    eq16 = s15 - s16\n",
    "    eq17 = s16 - s17\n",
    "    eq18 = 0.5 * s17 - s18\n",
    "    eq19 = 0.5 * s17 + 0.5 * s18 - s19\n",
    "    eq20 = s19 - s20\n",
    "    eq21 = 0.5 * s20 - s21\n",
    "\n",
    "    return [eq1, eq2, eq3, eq4, eq5, eq6, eq7, eq8, eq9, eq10, eq11, eq12, \n",
    "            eq13, eq14, eq15, eq16, eq17, eq18, eq19, eq20, eq21]\n",
    "\n",
    "\n",
    "\n",
    "# Initial guess\n",
    "initial_guess = np.ones(21)\n",
    "\n",
    "# Solve the system numerically\n",
    "solution = fsolve(equations, initial_guess)\n",
    "\n",
    "# Normalize the values to ensure the sum is 1\n",
    "normalized_solution = solution / sum(solution)\n",
    "\n",
    "# Display the normalized solution\n",
    "for state, value in zip(['s1', 's2', 's3', 's4', 's5', 's6', 's7', 's8', 's9', 's10', 's11',\n",
    "                         's12', 's13', 's14', 's15', 's16', 's17', 's18', 's19', 's20', 's21'], \n",
    "                        normalized_solution):\n",
    "    print(f\"{state}: {value}\")\n",
    "\n",
    "# Ensure the sum is 1 and round to 10 decimal places\n",
    "rounded_sum = round(sum(normalized_solution), 10)\n",
    "print(f\"Sum of all states: {rounded_sum}\")"
   ]
  },
  {
   "cell_type": "markdown",
   "id": "f92eb08f",
   "metadata": {},
   "source": [
    "### Failure states:\n",
    "- s13: 0.050526315789473676\n",
    "- s19: 0.02947368421052631"
   ]
  },
  {
   "cell_type": "markdown",
   "id": "a9a0f2fd",
   "metadata": {},
   "source": [
    "### Predicted Reliability\n"
   ]
  },
  {
   "cell_type": "code",
   "execution_count": 9,
   "id": "fa7cb809",
   "metadata": {},
   "outputs": [
    {
     "name": "stdout",
     "output_type": "stream",
     "text": [
      "Reliability:  0.92\n",
      "Reliability Percentage:  92.0 %\n"
     ]
    }
   ],
   "source": [
    "s13= 0.050526315789473676\n",
    "s19= 0.02947368421052631\n",
    "\n",
    "r=1-(s13+s19)\n",
    "print(\"Reliability: \",r)\n",
    "print(\"Reliability Percentage: \",r*100,'%')"
   ]
  },
  {
   "cell_type": "code",
   "execution_count": null,
   "id": "a0aadef3",
   "metadata": {},
   "outputs": [],
   "source": []
  }
 ],
 "metadata": {
  "kernelspec": {
   "display_name": "Python 3 (ipykernel)",
   "language": "python",
   "name": "python3"
  },
  "language_info": {
   "codemirror_mode": {
    "name": "ipython",
    "version": 3
   },
   "file_extension": ".py",
   "mimetype": "text/x-python",
   "name": "python",
   "nbconvert_exporter": "python",
   "pygments_lexer": "ipython3",
   "version": "3.11.4"
  }
 },
 "nbformat": 4,
 "nbformat_minor": 5
}
